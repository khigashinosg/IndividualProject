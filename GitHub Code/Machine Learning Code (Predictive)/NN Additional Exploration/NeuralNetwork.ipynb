{
 "cells": [
  {
   "cell_type": "markdown",
   "metadata": {},
   "source": [
    "# Imports and Pathnames"
   ]
  },
  {
   "cell_type": "code",
   "execution_count": 1,
   "metadata": {},
   "outputs": [],
   "source": [
    "# Import libraries\n",
    "import torch\n",
    "import torch.nn as nn\n",
    "import torch.optim as optim\n",
    "import pandas as pd\n",
    "from datetime import datetime, timedelta\n",
    "import matplotlib.pyplot as plt\n",
    "\n",
    "# Data pathnames\n",
    "data_path = [\n",
    "    '/Users/kyhi2018/Desktop/IndividualProject/Pre-processed ML data/Term 1/Main Library Pre-processed.xlsx', # Main Library (Term 1)\n",
    "    '/Users/kyhi2018/Desktop/IndividualProject/Pre-processed ML data/Term 1/Student Centre Pre-processed.xlsx', # Student Centre (Term 1)\n",
    "    '/Users/kyhi2018/Desktop/IndividualProject/Pre-processed ML data/Term 1/Science Library Pre-processed.xlsx', # Science Library (Term 1)\n",
    "    '/Users/kyhi2018/Desktop/IndividualProject/Pre-processed ML data/Term 2/Main Library Pre-processed.xlsx', # Main Library (Term 2)\n",
    "    '/Users/kyhi2018/Desktop/IndividualProject/Pre-processed ML data/Term 2/Student Centre Pre-processed.xlsx', # Student Centre (Term 2)\n",
    "    '/Users/kyhi2018/Desktop/IndividualProject/Pre-processed ML data/Term 2/Science Library Pre-processed.xlsx', # Science Library (Term 2)\n",
    "    ]"
   ]
  },
  {
   "cell_type": "markdown",
   "metadata": {},
   "source": [
    "# Define Neural Network"
   ]
  },
  {
   "cell_type": "code",
   "execution_count": 2,
   "metadata": {},
   "outputs": [],
   "source": [
    "class Net(nn.Module):\n",
    "    # Define the neural network architecture\n",
    "    def __init__(self, nb_layers=9, nb_nodes=4):\n",
    "        super().__init__()\n",
    "        # Define the layers\n",
    "        self.linear_layers = nn.ModuleList()\n",
    "        for i in range(nb_layers):\n",
    "            if i == 0: # first layer\n",
    "                self.linear_layers.append(nn.Linear(5, nb_nodes))\n",
    "            elif i == nb_layers - 1: # last layer\n",
    "                self.linear_layers.append(nn.Linear(nb_nodes, 1))\n",
    "            else: # hidden layers\n",
    "                self.linear_layers.append(nn.Linear(nb_nodes, nb_nodes))\n",
    "                \n",
    "        self.initialise_weights()\n",
    "\n",
    "    # Define the forward pass\n",
    "    def forward(self, x):\n",
    "        # Every layer has a ReLU activation function, even the output layer\n",
    "        for layer in self.linear_layers:\n",
    "            x = nn.ReLU()(layer(x))\n",
    "        return x\n",
    "    \n",
    "    def initialise_weights(self):\n",
    "        # Initialise the weights of the neural network\n",
    "        for layer in self.linear_layers:\n",
    "            nn.init.xavier_normal_(layer.weight.data) # Xavier Glorot initialisation\n",
    "            nn.init.constant_(layer.bias.data, 0)\n",
    "    \n",
    "    "
   ]
  },
  {
   "cell_type": "markdown",
   "metadata": {},
   "source": [
    "# Pre-Training Functions"
   ]
  },
  {
   "cell_type": "code",
   "execution_count": 4,
   "metadata": {},
   "outputs": [
    {
     "name": "stdout",
     "output_type": "stream",
     "text": [
      "/Users/kyhi2018/Desktop/IndividualProject/GitHub Code/Machine Learning Code (Predictive)/NN Additional Exploration\n"
     ]
    },
    {
     "ename": "ModuleNotFoundError",
     "evalue": "No module named 'Functions'",
     "output_type": "error",
     "traceback": [
      "\u001b[0;31m---------------------------------------------------------------------------\u001b[0m",
      "\u001b[0;31mModuleNotFoundError\u001b[0m                       Traceback (most recent call last)",
      "Cell \u001b[0;32mIn[4], line 5\u001b[0m\n\u001b[1;32m      2\u001b[0m \u001b[38;5;28;01mimport\u001b[39;00m \u001b[38;5;21;01mos\u001b[39;00m\n\u001b[1;32m      3\u001b[0m \u001b[38;5;28mprint\u001b[39m(os\u001b[38;5;241m.\u001b[39mgetcwd())\n\u001b[0;32m----> 5\u001b[0m \u001b[38;5;28;01mfrom\u001b[39;00m \u001b[38;5;21;01mFunctions\u001b[39;00m \u001b[38;5;28;01mimport\u001b[39;00m preprocess_data, train_test_split, t1_train_t2_test\n",
      "\u001b[0;31mModuleNotFoundError\u001b[0m: No module named 'Functions'"
     ]
    }
   ],
   "source": [
    "# Import pre-training functions\n",
    "import os\n",
    "print(os.getcwd())\n",
    "\n",
    "from Functions import preprocess_data, train_test_split, t1_train_t2_test"
   ]
  },
  {
   "cell_type": "markdown",
   "metadata": {},
   "source": [
    "# Train Network Function"
   ]
  },
  {
   "cell_type": "code",
   "execution_count": null,
   "metadata": {},
   "outputs": [],
   "source": [
    "# Train the network\n",
    "def train_net(model, x_train, y_train, optimiser = 'Adam', lr = 0.2, loss_func = 'MSE', steps = 1000):\n",
    "    \n",
    "    print(model)  # net architecture\n",
    "\n",
    "    # Define optimizer and loss function\n",
    "    if optimiser == 'Adam':\n",
    "        optimizer = optim.Adam(model.parameters(), lr=lr)\n",
    "    elif optimiser == 'SGD':\n",
    "        optimizer = optim.SGD(model.parameters(), lr=lr)\n",
    "    elif optimiser == 'RMSprop':\n",
    "        optimizer = optim.RMSprop(model.parameters(), lr=lr)\n",
    "        \n",
    "    if loss_func == 'MSE':\n",
    "        loss_func = nn.MSELoss() # this is for regression mean squared loss\n",
    "\n",
    "    old_loss = 0      # initialise old loss\n",
    "    current_step = 0  # initialise step counter\n",
    "    \n",
    "    while current_step < steps:\n",
    "        prediction = model(x_train)     # use x_train tp predict y_train\n",
    "        \n",
    "        new_loss = loss_func(prediction.squeeze(), y_train) # compute loss\n",
    "        \n",
    "        if current_step % (steps//5) == 0: # print loss every 20% of training\n",
    "            print(new_loss.item())\n",
    "            \n",
    "        if old_loss == new_loss: # stop training and reinitialise weights if loss is not changing\n",
    "            \n",
    "            print('Loss is not changing. Reinitialising weights...')\n",
    "            print(f'Final loss: {new_loss.item()}', f'Final step: {current_step}')\n",
    "            \n",
    "            model.initialise_weights()\n",
    "            current_step = 0 # reset training process\n",
    "            continue\n",
    "        else:\n",
    "            old_loss = new_loss.clone() # update old loss\n",
    "\n",
    "            optimizer.zero_grad()   # clear gradients for next train\n",
    "            new_loss.backward()     # backpropagation, compute gradients\n",
    "            optimizer.step()        # apply gradients\n",
    "        \n",
    "        current_step += 1 # update step\n",
    "        \n",
    "    print(f'Optimser: {optimiser}', f'learning rate: {lr}', f'Loss function: {loss_func}')\n",
    "    \n",
    "    return model, new_loss"
   ]
  },
  {
   "cell_type": "markdown",
   "metadata": {},
   "source": [
    "# Main"
   ]
  },
  {
   "cell_type": "code",
   "execution_count": null,
   "metadata": {},
   "outputs": [
    {
     "name": "stdout",
     "output_type": "stream",
     "text": [
      "Net(\n",
      "  (linear_layers): ModuleList(\n",
      "    (0): Linear(in_features=5, out_features=4, bias=True)\n",
      "    (1-7): 7 x Linear(in_features=4, out_features=4, bias=True)\n",
      "    (8): Linear(in_features=4, out_features=1, bias=True)\n",
      "  )\n",
      ")\n",
      "45874.203125\n",
      "5564.7900390625\n",
      "5616.50244140625\n",
      "5523.85302734375\n",
      "Loss is not changing. Reinitialising weights...\n",
      "Final loss: 5523.2255859375 Final step: 1275\n",
      "45873.01953125\n",
      "Loss is not changing. Reinitialising weights...\n",
      "Final loss: 28202.47265625 Final step: 129\n",
      "45874.234375\n",
      "Loss is not changing. Reinitialising weights...\n",
      "Final loss: 45874.234375 Final step: 1\n",
      "45874.07421875\n",
      "Loss is not changing. Reinitialising weights...\n",
      "Final loss: 28202.34765625 Final step: 159\n",
      "45874.234375\n",
      "2546.26318359375\n",
      "2159.981201171875\n",
      "2183.220947265625\n",
      "2043.16015625\n",
      "Optimser: Adam learning rate: 0.1 Loss function: MSELoss()\n",
      "Final train loss:  1815.5709228515625\n",
      "Testing data:  tensor([[0.3287, 0.0000, 0.0000, 0.0000, 0.0000],\n",
      "        [0.3357, 0.0000, 0.0000, 0.0000, 0.0000],\n",
      "        [0.3427, 0.0000, 0.0000, 0.0000, 0.0000],\n",
      "        ...,\n",
      "        [0.8671, 1.0000, 1.0000, 0.0000, 0.0000],\n",
      "        [0.8741, 1.0000, 1.0000, 0.0000, 0.0000],\n",
      "        [0.8811, 1.0000, 1.0000, 0.0000, 0.0000]])\n",
      "Prediction:  tensor([ 3.6927,  3.6927,  3.6927,  ..., 71.8485, 66.5347, 61.2208],\n",
      "       grad_fn=<SqueezeBackward0>)\n",
      "Test loss:  1238.9754638671875\n"
     ]
    },
    {
     "data": {
      "image/png": "[encoded data removed]",
      "text/plain": [
       "<Figure size 640x480 with 1 Axes>"
      ]
     },
     "metadata": {},
     "output_type": "display_data"
    },
    {
     "name": "stdout",
     "output_type": "stream",
     "text": [
      "Finished\n"
     ]
    }
   ],
   "source": [
    "if __name__ == '__main__':\n",
    "    # Initialize the network\n",
    "    model = Net()\n",
    "    \n",
    "    # Import data\n",
    "    t1_data = pd.read_excel(data_path[0])\n",
    "    t2_data = pd.read_excel(data_path[3])\n",
    "        \n",
    "    # Preprocess data\n",
    "    t1_data = preprocess_data(t1_data)\n",
    "    t2_data = preprocess_data(t2_data)\n",
    "    \n",
    "    # Split data into training and testing sets\n",
    "    #x_train, x_test, y_train, y_test = train_test_split(t1_data, train_end=(11,11))\n",
    "    x_train, x_test, y_train, y_test = t1_train_t2_test(t1_data, t2_data)\n",
    "\n",
    "\n",
    "    # Train the network\n",
    "    model, loss = train_net(model, x_train, y_train, optimiser='Adam', lr=0.1, loss_func='MSE', steps=2000)\n",
    "    print('Final train loss: ', loss.item())\n",
    "    \n",
    "    # Predict the target variable on the testing data\n",
    "    model.eval()\n",
    "    print('Testing data: ', x_test)\n",
    "    prediction = model(x_test)\n",
    "    print('Prediction: ', prediction.squeeze())\n",
    "    \n",
    "    # Compute the loss on the testing data\n",
    "    loss = nn.MSELoss()\n",
    "    test_loss = loss(prediction.squeeze(), y_test)\n",
    "    print('Test loss: ', test_loss.item())\n",
    "    \n",
    "    # Plot the results\n",
    "    prediction = prediction.detach().numpy()\n",
    "    y_test = y_test.detach().numpy()\n",
    "    plt.scatter(y_test, prediction)\n",
    "    plt.title('Neural Network - Predicted vs Actual Occupancy')\n",
    "    plt.xlabel('Predicted')\n",
    "    plt.ylabel('Actual')\n",
    "    plt.grid()\n",
    "    plt.show()\n",
    "    \n",
    "    \n",
    "    \n",
    "    print('Finished')"
   ]
  }
 ],
 "metadata": {
  "kernelspec": {
   "display_name": "IndProVenv",
   "language": "python",
   "name": "python3"
  },
  "language_info": {
   "codemirror_mode": {
    "name": "ipython",
    "version": 3
   },
   "file_extension": ".py",
   "mimetype": "text/x-python",
   "name": "python",
   "nbconvert_exporter": "python",
   "pygments_lexer": "ipython3",
   "version": "3.11.5"
  }
 },
 "nbformat": 4,
 "nbformat_minor": 2
}
