{
 "cells": [
  {
   "cell_type": "markdown",
   "metadata": {},
   "source": [
    "# Imports and Pathnames"
   ]
  },
  {
   "cell_type": "code",
   "execution_count": 1,
   "metadata": {},
   "outputs": [],
   "source": [
    "# Import standard packages\n",
    "import matplotlib.pyplot as plt\n",
    "import pandas as pd\n",
    "import numpy as np\n",
    "from datetime import datetime, timedelta\n",
    "\n",
    "# Import Random Forest Regressor\n",
    "import torch \n",
    "from sklearn.ensemble import RandomForestRegressor\n",
    "\n",
    "# Establish data import paths\n",
    "data_path = [\n",
    "    '/Users/kyhi2018/Desktop/IndividualProject/Pre-processed ML data/Term 1/Main Library Pre-processed.xlsx', # Main Library (Term 1)\n",
    "    '/Users/kyhi2018/Desktop/IndividualProject/Pre-processed ML data/Term 1/Student Centre Pre-processed.xlsx', # Student Centre (Term 1)\n",
    "    '/Users/kyhi2018/Desktop/IndividualProject/Pre-processed ML data/Term 1/Science Library Pre-processed.xlsx', # Science Library (Term 1)\n",
    "    '/Users/kyhi2018/Desktop/IndividualProject/Pre-processed ML data/Term 2/Main Library Pre-processed.xlsx', # Main Library (Term 2)\n",
    "    '/Users/kyhi2018/Desktop/IndividualProject/Pre-processed ML data/Term 2/Student Centre Pre-processed.xlsx', # Student Centre (Term 2)\n",
    "    '/Users/kyhi2018/Desktop/IndividualProject/Pre-processed ML data/Term 2/Science Library Pre-processed.xlsx', # Science Library (Term 2)\n",
    "    ]"
   ]
  },
  {
   "cell_type": "markdown",
   "metadata": {},
   "source": [
    "# Pre-Training Functions"
   ]
  },
  {
   "cell_type": "code",
   "execution_count": null,
   "metadata": {},
   "outputs": [],
   "source": [
    "# Split data into training and testing sets\n",
    "def train_test_split(data, train_end):\n",
    "    # Select training and test periods\n",
    "    train_end = datetime(2022,train_end[0],train_end[1]) # change date to end of training period\n",
    "    test_start = train_end + timedelta(days=1) # test period is 1 day after train period ends\n",
    "\n",
    "    # Split data into training and testing sets\n",
    "    x_train = data.set_index('Occurrence Time')[:train_end.date()].iloc[:,1:-2]\n",
    "    x_test = data.set_index('Occurrence Time')[test_start.date():].iloc[:,1:-2]\n",
    "    y_train = data.set_index('Occurrence Time')[:train_end.date()].iloc[:,0]\n",
    "    y_test = data.set_index('Occurrence Time')[test_start.date():].iloc[:,0]\n",
    "    \n",
    "    # Convert to tensors\n",
    "    x_train = torch.tensor(x_train.values).float()\n",
    "    x_test = torch.tensor(x_test.values).float()\n",
    "    y_train = torch.tensor(y_train.values).float()\n",
    "    y_test = torch.tensor(y_test.values).float()\n",
    "    \n",
    "    return x_train, x_test, y_train, y_test"
   ]
  },
  {
   "cell_type": "markdown",
   "metadata": {},
   "source": [
    "# Main"
   ]
  },
  {
   "cell_type": "code",
   "execution_count": 3,
   "metadata": {},
   "outputs": [],
   "source": [
    "if __name__ == '__main__':\n",
    "    data = pd.read_excel(data_path[0])\n",
    "    \n",
    "    \n",
    "    "
   ]
  }
 ],
 "metadata": {
  "kernelspec": {
   "display_name": "base",
   "language": "python",
   "name": "python3"
  },
  "language_info": {
   "codemirror_mode": {
    "name": "ipython",
    "version": 3
   },
   "file_extension": ".py",
   "mimetype": "text/x-python",
   "name": "python",
   "nbconvert_exporter": "python",
   "pygments_lexer": "ipython3",
   "version": "3.11.5"
  }
 },
 "nbformat": 4,
 "nbformat_minor": 2
}
